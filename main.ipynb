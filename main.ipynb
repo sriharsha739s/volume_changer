{
 "cells": [
  {
   "cell_type": "code",
   "execution_count": null,
   "id": "954283e6",
   "metadata": {},
   "outputs": [],
   "source": [
    "import cv2\n",
    "import mediapipe as mp\n",
    "import math\n",
    "import numpy as np\n",
    "import osascript\n",
    "import time"
   ]
  },
  {
   "cell_type": "code",
   "execution_count": null,
   "id": "4c7c04a7",
   "metadata": {},
   "outputs": [],
   "source": [
    "mpHands = mp.solutions.hands\n",
    "hands = mpHands.Hands()\n",
    "mpDraw = mp.solutions.drawing_utils #drawing the landmarks"
   ]
  },
  {
   "cell_type": "code",
   "execution_count": null,
   "id": "9b65b831",
   "metadata": {},
   "outputs": [],
   "source": [
    "font                   = cv2.FONT_HERSHEY_SIMPLEX\n",
    "bottomLeftCornerOfText = (10,500)\n",
    "fontScale              = 1\n",
    "fontColor              = (255,255,255)\n",
    "lineType               = 2"
   ]
  },
  {
   "cell_type": "code",
   "execution_count": null,
   "id": "256902ec",
   "metadata": {},
   "outputs": [],
   "source": [
    "def update_volume(val):\n",
    "    vol = \"set volume output volume \" + str(val)\n",
    "    osascript.osascript(vol)\n",
    "    return vol\n",
    "\n",
    "def get_distance(img, lmList,finger1 = 0, finger2 = 1, handNo = 0, draw=True, r=15, t=3):\n",
    "    tipPos = [4, 8, 12, 16, 20] #at this position, we can get the landmark of the tips of the 5 fingers\n",
    "    lmList = lmList\n",
    "    x1, y1 = lmList[tipPos[finger1]][1:] #get x and y coordinates of index finger\n",
    "    x2, y2 = lmList[tipPos[finger2]][1:] #get x and y coordinates of middle finger\n",
    "    length = math.hypot(x2-x1, y2-y1)\n",
    "    cx, cy = (x1 + x2) // 2, (y1 + y2) // 2\n",
    "    if draw:\n",
    "        cv2.line(img, (x1, y1), (x2, y2), (255, 0, 255), t)\n",
    "        cv2.circle(img, (x1, y1), r, (255, 0, 255), cv2.FILLED)\n",
    "        cv2.circle(img, (x2, y2), r, (255, 0, 255), cv2.FILLED)\n",
    "        cv2.circle(img, (cx, cy), r, (0, 0, 255), cv2.FILLED)\n",
    "    \n",
    "    return length,img\n",
    "    \n",
    "def findHands(img):\n",
    "    imgRGB = cv2.cvtColor(img,cv2.COLOR_BGR2RGB)\n",
    "    results = hands.process(imgRGB)\n",
    "    if(results.multi_hand_landmarks):\n",
    "        for handLms in results.multi_hand_landmarks:\n",
    "            mpDraw.draw_landmarks(img,handLms, mpHands.HAND_CONNECTIONS)\n",
    "    return img\n",
    "    \n",
    "\n",
    "def get_position(img, handNo = 0): #get all landmark positions\n",
    "    lmList = []\n",
    "    xList = []\n",
    "    yList = []\n",
    "    \n",
    "    imgRGB = cv2.cvtColor(img, cv2.COLOR_BGR2RGB)\n",
    "    results = hands.process(imgRGB)\n",
    "    if results.multi_hand_landmarks:\n",
    "        myHand = results.multi_hand_landmarks[handNo]\n",
    "        for id, lm in enumerate(myHand.landmark):\n",
    "            h,w,c = img.shape\n",
    "            #converting those into dimensions \n",
    "            cx,cy = int(lm.x*w), int(lm.y*h)\n",
    "            xList.append(cx)\n",
    "            yList.append(cy)\n",
    "            lmList.append([id, cx,cy])\n",
    "            \n",
    "    return lmList\n",
    "            \n"
   ]
  },
  {
   "cell_type": "code",
   "execution_count": null,
   "id": "3ce20167",
   "metadata": {},
   "outputs": [],
   "source": [
    "cap = cv2.VideoCapture(0)\n",
    "# volume.GetMute()\n",
    "# volume.GetMasterVolumeLevel()\n",
    "\n",
    "\n",
    "while True:\n",
    "    success, img = cap.read()\n",
    "    if not success:\n",
    "        print(\"Failed to read frame\")\n",
    "        continue\n",
    "        \n",
    "    image = findHands(img)\n",
    "    lmList = get_position(img)\n",
    "    if len(lmList)!= 0:\n",
    "        length, img = get_distance(img, lmList)\n",
    "        \n",
    "        vol = np.interp(length, [50, 300], [0, 100])\n",
    "        volBar = np.interp(length, [50, 300], [400, 150])\n",
    "        volPer = np.interp(length, [50, 300], [0, 100])\n",
    "        vol = int(vol)\n",
    "        x = update_volume(vol)\n",
    "\n",
    "        cv2.rectangle(img, (50, 150), (85, 400), (255, 0, 0), 3)\n",
    "        cv2.rectangle(img, (50, int(volBar)), (85, 400), (255, 0, 0), cv2.FILLED)\n",
    "        cv2.putText(img, f'{int(volPer)} %', (40, 450), cv2.FONT_HERSHEY_COMPLEX,\n",
    "                    1, (255, 0, 0), 3)\n",
    "\n",
    "    cv2.imshow(\"Image\", image)\n",
    "    cv2.waitKey(1)\n",
    "    \n",
    "cap.release()\n",
    "cv2.destroyAllWindows()"
   ]
  },
  {
   "cell_type": "code",
   "execution_count": null,
   "id": "11399b47",
   "metadata": {},
   "outputs": [],
   "source": []
  },
  {
   "cell_type": "code",
   "execution_count": null,
   "id": "8d2991a2",
   "metadata": {},
   "outputs": [],
   "source": []
  },
  {
   "cell_type": "code",
   "execution_count": null,
   "id": "18b4fa0b",
   "metadata": {},
   "outputs": [],
   "source": []
  }
 ],
 "metadata": {
  "kernelspec": {
   "display_name": "volume",
   "language": "python",
   "name": "volume"
  },
  "language_info": {
   "codemirror_mode": {
    "name": "ipython",
    "version": 3
   },
   "file_extension": ".py",
   "mimetype": "text/x-python",
   "name": "python",
   "nbconvert_exporter": "python",
   "pygments_lexer": "ipython3",
   "version": "3.8.5"
  }
 },
 "nbformat": 4,
 "nbformat_minor": 5
}
